{
 "cells": [
  {
   "cell_type": "code",
   "execution_count": 2,
   "metadata": {},
   "outputs": [
    {
     "name": "stdout",
     "output_type": "stream",
     "text": [
      "Loading data...\n",
      "Splitting data Non-IID...\n",
      "Saving client data...\n",
      "Client data saved to C:/Users/ahsld/Desktop/연합학습 트라이/clients_data/\n"
     ]
    }
   ],
   "source": [
    "import pandas as pd\n",
    "import numpy as np\n",
    "import os\n",
    "import json\n",
    "from sklearn.model_selection import train_test_split\n",
    "\n",
    "# 1. 데이터 로드\n",
    "def load_data(file_path):\n",
    "    columns = [\"target\", \"id\", \"date\", \"flag\", \"user\", \"text\"]\n",
    "    data = pd.read_csv(file_path, encoding=\"ISO-8859-1\", names=columns)\n",
    "    return data[[\"target\", \"text\"]]  # 필요한 열만 사용 (label, text)\n",
    "\n",
    "# 2. Non-IID 분배\n",
    "def split_non_iid(data, num_clients=5, dominant_classes=2):\n",
    "    \"\"\"\n",
    "    Non-IID 방식으로 데이터를 나눕니다.\n",
    "    각 클라이언트가 특정 클래스에 더 많은 비율의 데이터를 갖도록 분배.\n",
    "    \"\"\"\n",
    "    clients = {f\"client_{i}\": [] for i in range(num_clients)}\n",
    "    \n",
    "    # 클래스별로 데이터 분리\n",
    "    grouped = data.groupby(\"target\")\n",
    "    \n",
    "    for class_label, group in grouped:\n",
    "        # 클라이언트별로 데이터를 분배\n",
    "        client_indices = np.random.choice(range(num_clients), size=num_clients, replace=False)\n",
    "        splits = np.array_split(group.sample(frac=1, random_state=42), num_clients)\n",
    "        \n",
    "        for i, idx in enumerate(client_indices):\n",
    "            if i < dominant_classes:  # 특정 클라이언트에 더 많은 데이터 분배\n",
    "                clients[f\"client_{idx}\"].extend(splits[i].to_dict(\"records\"))\n",
    "            else:\n",
    "                clients[f\"client_{idx}\"].extend(splits[i].to_dict(\"records\"))\n",
    "\n",
    "    return clients\n",
    "\n",
    "# 3. 데이터 저장\n",
    "def save_clients_to_json(clients, output_dir):\n",
    "    os.makedirs(output_dir, exist_ok=True)\n",
    "    for client_id, data in clients.items():\n",
    "        file_path = os.path.join(output_dir, f\"{client_id}.json\")\n",
    "        with open(file_path, \"w\") as f:\n",
    "            json.dump(data, f, indent=2)\n",
    "\n",
    "# 4. 실행 코드\n",
    "if __name__ == \"__main__\":\n",
    "    # 파일 경로 설정\n",
    "    file_path = r\"C:\\Users\\ahsld\\Desktop\\연합학습 트라이\\training.1600000.processed.noemoticon.csv\"  # Sentiment140 데이터 경로\n",
    "    output_dir = \"C:/Users/ahsld/Desktop/연합학습 트라이/clients_data\"  # 분배된 데이터를 저장할 폴더\n",
    "    \n",
    "    # 데이터 로드\n",
    "    print(\"Loading data...\")\n",
    "    data = load_data(file_path)\n",
    "    \n",
    "    # 데이터 분배\n",
    "    print(\"Splitting data Non-IID...\")\n",
    "    clients = split_non_iid(data, num_clients=5, dominant_classes=2)\n",
    "    \n",
    "    # 데이터 저장\n",
    "    print(\"Saving client data...\")\n",
    "    save_clients_to_json(clients, output_dir)\n",
    "    \n",
    "    print(f\"Client data saved to {output_dir}/\")\n"
   ]
  }
 ],
 "metadata": {
  "kernelspec": {
   "display_name": "GGG",
   "language": "python",
   "name": "python3"
  },
  "language_info": {
   "codemirror_mode": {
    "name": "ipython",
    "version": 3
   },
   "file_extension": ".py",
   "mimetype": "text/x-python",
   "name": "python",
   "nbconvert_exporter": "python",
   "pygments_lexer": "ipython3",
   "version": "3.8.20"
  }
 },
 "nbformat": 4,
 "nbformat_minor": 2
}
