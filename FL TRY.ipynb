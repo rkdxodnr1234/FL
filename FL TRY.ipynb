{
 "cells": [
  {
   "cell_type": "code",
   "execution_count": null,
   "metadata": {},
   "outputs": [],
   "source": [
    "git clone https://github.com/TalwalkarLab/leaf.git\n",
    "cd leaf/data/femnist\n"
   ]
  },
  {
   "cell_type": "code",
   "execution_count": null,
   "metadata": {},
   "outputs": [],
   "source": [
    "./preprocess.sh -s niid --sf 0.05 -k 5 -t sample\n"
   ]
  }
 ],
 "metadata": {
  "kernelspec": {
   "display_name": "GGG",
   "language": "python",
   "name": "python3"
  },
  "language_info": {
   "name": "python",
   "version": "3.8.20"
  }
 },
 "nbformat": 4,
 "nbformat_minor": 2
}
